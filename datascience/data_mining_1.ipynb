{
 "cells": [
  {
   "cell_type": "code",
   "execution_count": 1,
   "metadata": {
    "colab": {
     "base_uri": "https://localhost:8080/"
    },
    "id": "iT44p6rOfMmx",
    "outputId": "15e58ea0-e89d-43e1-aef8-a270b38580c0",
    "scrolled": false
   },
   "outputs": [
    {
     "name": "stdout",
     "output_type": "stream",
     "text": [
      "Requirement already satisfied: nltk in e:\\niklearning\\projects\\monday\\alirezagarshasbi\\datascience\\env\\lib\\site-packages (3.8.1)\n",
      "Requirement already satisfied: joblib in e:\\niklearning\\projects\\monday\\alirezagarshasbi\\datascience\\env\\lib\\site-packages (from nltk) (1.1.1)\n",
      "Requirement already satisfied: tqdm in e:\\niklearning\\projects\\monday\\alirezagarshasbi\\datascience\\env\\lib\\site-packages (from nltk) (4.65.0)\n",
      "Requirement already satisfied: regex>=2021.8.3 in e:\\niklearning\\projects\\monday\\alirezagarshasbi\\datascience\\env\\lib\\site-packages (from nltk) (2023.3.23)\n",
      "Requirement already satisfied: click in e:\\niklearning\\projects\\monday\\alirezagarshasbi\\datascience\\env\\lib\\site-packages (from nltk) (8.1.3)\n",
      "Requirement already satisfied: colorama in e:\\niklearning\\projects\\monday\\alirezagarshasbi\\datascience\\env\\lib\\site-packages (from click->nltk) (0.4.6)\n"
     ]
    }
   ],
   "source": [
    "!pip install nltk"
   ]
  },
  {
   "cell_type": "code",
   "execution_count": 2,
   "metadata": {
    "colab": {
     "base_uri": "https://localhost:8080/"
    },
    "id": "mX_GSdnfkfB0",
    "outputId": "d7474308-34a8-4a0b-bc48-0c3eaff1edba"
   },
   "outputs": [],
   "source": [
    "import nltk\n",
    "# nltk.download()"
   ]
  },
  {
   "cell_type": "code",
   "execution_count": 3,
   "metadata": {
    "colab": {
     "base_uri": "https://localhost:8080/"
    },
    "id": "Oj2rs8ZujYx-",
    "outputId": "619bcafe-1597-4649-bd54-0523dcf9f1b5"
   },
   "outputs": [
    {
     "name": "stderr",
     "output_type": "stream",
     "text": [
      "[nltk_data] Downloading package punkt to\n",
      "[nltk_data]     C:\\Users\\msa\\AppData\\Roaming\\nltk_data...\n",
      "[nltk_data]   Package punkt is already up-to-date!\n"
     ]
    },
    {
     "data": {
      "text/plain": [
       "True"
      ]
     },
     "execution_count": 3,
     "metadata": {},
     "output_type": "execute_result"
    }
   ],
   "source": [
    "nltk.download('punkt')"
   ]
  },
  {
   "cell_type": "code",
   "execution_count": 4,
   "metadata": {
    "id": "XJtrLOh0lX0T"
   },
   "outputs": [],
   "source": [
    "paragraph = \"\"\"If you'd like to automate the installation of Bash instead,you can run the following command in a Command Prompt window . This will automatically agree to all prompts and set the default user to root with no password:\"\"\""
   ]
  },
  {
   "cell_type": "code",
   "execution_count": 5,
   "metadata": {
    "id": "vi7VR4lwnujf"
   },
   "outputs": [],
   "source": [
    "sentences = nltk.sent_tokenize(paragraph)"
   ]
  },
  {
   "cell_type": "code",
   "execution_count": 6,
   "metadata": {
    "id": "oMHJh0Z7rqLg"
   },
   "outputs": [],
   "source": [
    "from nltk.stem import WordNetLemmatizer"
   ]
  },
  {
   "cell_type": "code",
   "execution_count": 7,
   "metadata": {
    "colab": {
     "base_uri": "https://localhost:8080/"
    },
    "id": "X2sL0vc1r8FV",
    "outputId": "e1329e52-74ac-4507-a063-889545f898bb"
   },
   "outputs": [
    {
     "name": "stderr",
     "output_type": "stream",
     "text": [
      "[nltk_data] Downloading package wordnet to\n",
      "[nltk_data]     C:\\Users\\msa\\AppData\\Roaming\\nltk_data...\n",
      "[nltk_data]   Package wordnet is already up-to-date!\n"
     ]
    },
    {
     "data": {
      "text/plain": [
       "True"
      ]
     },
     "execution_count": 7,
     "metadata": {},
     "output_type": "execute_result"
    }
   ],
   "source": [
    "nltk.download('wordnet')"
   ]
  },
  {
   "cell_type": "code",
   "execution_count": 8,
   "metadata": {
    "id": "WZwJ-v7pr9nJ"
   },
   "outputs": [],
   "source": [
    "lemmatizer = WordNetLemmatizer()"
   ]
  },
  {
   "cell_type": "code",
   "execution_count": 9,
   "metadata": {
    "colab": {
     "base_uri": "https://localhost:8080/",
     "height": 35
    },
    "id": "DdU2yUXvsAk2",
    "outputId": "3bafcf57-3007-4709-ba76-b14e55ab2231"
   },
   "outputs": [
    {
     "data": {
      "text/plain": [
       "'going'"
      ]
     },
     "execution_count": 9,
     "metadata": {},
     "output_type": "execute_result"
    }
   ],
   "source": [
    "lemmatizer.lemmatize('going')"
   ]
  },
  {
   "cell_type": "code",
   "execution_count": 10,
   "metadata": {
    "id": "ZJoNcsxYsCFK"
   },
   "outputs": [],
   "source": [
    "paragraph = \"\"\"If you'd like to automate the installation of Bash instead,you can run the following command in a Command Prompt window . This will automatically agree to all prompts and set the default user to root with no password:\"\"\"\n",
    "sentences = nltk.sent_tokenize(paragraph)"
   ]
  },
  {
   "cell_type": "code",
   "execution_count": 11,
   "metadata": {
    "id": "eBjNF1jSsWtq"
   },
   "outputs": [],
   "source": [
    "lem =\"\"\n",
    "for i in range(len(sentences)):\n",
    "    words = nltk.word_tokenize(sentences[i])\n",
    "    words = [lemmatizer.lemmatize(word) for word in words]\n",
    "    lem += ' '.join(words)"
   ]
  },
  {
   "cell_type": "code",
   "execution_count": 12,
   "metadata": {
    "colab": {
     "base_uri": "https://localhost:8080/"
    },
    "id": "vMk_Ybm6sjKj",
    "outputId": "705e498d-c504-428e-853f-2a2e4189be3c"
   },
   "outputs": [
    {
     "data": {
      "text/plain": [
       "[\"If you'd like to automate the installation of Bash instead,you can run the following command in a Command Prompt window .\",\n",
       " 'This will automatically agree to all prompts and set the default user to root with no password:']"
      ]
     },
     "execution_count": 12,
     "metadata": {},
     "output_type": "execute_result"
    }
   ],
   "source": [
    "sentences"
   ]
  },
  {
   "cell_type": "code",
   "execution_count": 13,
   "metadata": {
    "colab": {
     "base_uri": "https://localhost:8080/",
     "height": 53
    },
    "id": "ou5hiUCVslEX",
    "outputId": "4b38c6eb-047e-47bb-d923-531f145d777d"
   },
   "outputs": [
    {
     "data": {
      "text/plain": [
       "\"If you 'd like to automate the installation of Bash instead , you can run the following command in a Command Prompt window .This will automatically agree to all prompt and set the default user to root with no password :\""
      ]
     },
     "execution_count": 13,
     "metadata": {},
     "output_type": "execute_result"
    }
   ],
   "source": [
    "lem"
   ]
  },
  {
   "cell_type": "code",
   "execution_count": 14,
   "metadata": {
    "colab": {
     "base_uri": "https://localhost:8080/"
    },
    "id": "ntvmnTuism2S",
    "outputId": "0bf7c0b9-8a5a-485c-ddae-bb747c21d540"
   },
   "outputs": [
    {
     "name": "stderr",
     "output_type": "stream",
     "text": [
      "[nltk_data] Downloading package stopwords to\n",
      "[nltk_data]     C:\\Users\\msa\\AppData\\Roaming\\nltk_data...\n",
      "[nltk_data]   Package stopwords is already up-to-date!\n"
     ]
    },
    {
     "data": {
      "text/plain": [
       "True"
      ]
     },
     "execution_count": 14,
     "metadata": {},
     "output_type": "execute_result"
    }
   ],
   "source": [
    "nltk.download('stopwords')"
   ]
  },
  {
   "cell_type": "code",
   "execution_count": 15,
   "metadata": {
    "id": "I6HTFk4WkAx3"
   },
   "outputs": [],
   "source": [
    "from nltk.corpus import stopwords"
   ]
  },
  {
   "cell_type": "code",
   "execution_count": 16,
   "metadata": {
    "colab": {
     "base_uri": "https://localhost:8080/"
    },
    "id": "_gViTBkJkIY3",
    "outputId": "db6fc744-8626-49bc-d87c-1aef1417f374"
   },
   "outputs": [
    {
     "data": {
      "text/plain": [
       "[\"If you'd like to automate the installation of Bash instead,you can run the following command in a Command Prompt window .\",\n",
       " 'This will automatically agree to all prompts and set the default user to root with no password:']"
      ]
     },
     "execution_count": 16,
     "metadata": {},
     "output_type": "execute_result"
    }
   ],
   "source": [
    "sentences"
   ]
  },
  {
   "cell_type": "code",
   "execution_count": 17,
   "metadata": {
    "colab": {
     "base_uri": "https://localhost:8080/"
    },
    "id": "npetkbmQmFqA",
    "outputId": "5af3c1de-532b-4f4c-bc1e-32f27146661a"
   },
   "outputs": [
    {
     "data": {
      "text/plain": [
       "list"
      ]
     },
     "execution_count": 17,
     "metadata": {},
     "output_type": "execute_result"
    }
   ],
   "source": [
    "type(stopwords.words('english'))"
   ]
  },
  {
   "cell_type": "code",
   "execution_count": 18,
   "metadata": {
    "id": "rF7kD6GSkLy3"
   },
   "outputs": [],
   "source": [
    "without_sw = ''\n",
    "for i in range(len(sentences)):\n",
    "  words = nltk.word_tokenize(sentences[i])\n",
    "  words = [word for word in words if word not in stopwords.words('english')]\n",
    "  without_sw += ' '.join(words)"
   ]
  },
  {
   "cell_type": "code",
   "execution_count": 19,
   "metadata": {
    "colab": {
     "base_uri": "https://localhost:8080/",
     "height": 53
    },
    "id": "opOGSbwSl4-a",
    "outputId": "788e4cd7-49f5-4567-c13f-3b048f296865"
   },
   "outputs": [
    {
     "data": {
      "text/plain": [
       "\"If 'd like automate installation Bash instead , run following command Command Prompt window .This automatically agree prompts set default user root password :\""
      ]
     },
     "execution_count": 19,
     "metadata": {},
     "output_type": "execute_result"
    }
   ],
   "source": [
    "without_sw"
   ]
  },
  {
   "cell_type": "code",
   "execution_count": 20,
   "metadata": {
    "colab": {
     "base_uri": "https://localhost:8080/"
    },
    "id": "dfounMcIl48L",
    "outputId": "0cd3bf06-b20a-40b5-8b69-36f2a650ad90"
   },
   "outputs": [
    {
     "name": "stderr",
     "output_type": "stream",
     "text": [
      "[nltk_data] Downloading package averaged_perceptron_tagger to\n",
      "[nltk_data]     C:\\Users\\msa\\AppData\\Roaming\\nltk_data...\n",
      "[nltk_data]   Package averaged_perceptron_tagger is already up-to-\n",
      "[nltk_data]       date!\n"
     ]
    },
    {
     "data": {
      "text/plain": [
       "True"
      ]
     },
     "execution_count": 20,
     "metadata": {},
     "output_type": "execute_result"
    }
   ],
   "source": [
    "nltk.download('averaged_perceptron_tagger')"
   ]
  },
  {
   "cell_type": "code",
   "execution_count": 21,
   "metadata": {
    "id": "jB-0xa9dl45c"
   },
   "outputs": [],
   "source": [
    "words = nltk.word_tokenize(paragraph)\n",
    "tagged_words = nltk.pos_tag(words)"
   ]
  },
  {
   "cell_type": "code",
   "execution_count": 99,
   "metadata": {
    "id": "-8VIBbIql42u"
   },
   "outputs": [
    {
     "data": {
      "text/plain": [
       "[('If', 'IN'),\n",
       " ('you', 'PRP'),\n",
       " (\"'d\", 'MD'),\n",
       " ('like', 'VB'),\n",
       " ('to', 'TO'),\n",
       " ('automate', 'VB'),\n",
       " ('the', 'DT'),\n",
       " ('installation', 'NN'),\n",
       " ('of', 'IN'),\n",
       " ('Bash', 'NNP'),\n",
       " ('instead', 'RB'),\n",
       " (',', ','),\n",
       " ('you', 'PRP'),\n",
       " ('can', 'MD'),\n",
       " ('run', 'VB'),\n",
       " ('the', 'DT'),\n",
       " ('following', 'JJ'),\n",
       " ('command', 'NN'),\n",
       " ('in', 'IN'),\n",
       " ('a', 'DT'),\n",
       " ('Command', 'NNP'),\n",
       " ('Prompt', 'NNP'),\n",
       " ('window', 'NN'),\n",
       " ('.', '.'),\n",
       " ('This', 'DT'),\n",
       " ('will', 'MD'),\n",
       " ('automatically', 'RB'),\n",
       " ('agree', 'VB'),\n",
       " ('to', 'TO'),\n",
       " ('all', 'DT'),\n",
       " ('prompts', 'NNS'),\n",
       " ('and', 'CC'),\n",
       " ('set', 'VB'),\n",
       " ('the', 'DT'),\n",
       " ('default', 'NN'),\n",
       " ('user', 'NN'),\n",
       " ('to', 'TO'),\n",
       " ('root', 'VB'),\n",
       " ('with', 'IN'),\n",
       " ('no', 'DT'),\n",
       " ('password', 'NN'),\n",
       " (':', ':')]"
      ]
     },
     "execution_count": 99,
     "metadata": {},
     "output_type": "execute_result"
    }
   ],
   "source": [
    "tagged_words"
   ]
  },
  {
   "cell_type": "code",
   "execution_count": 22,
   "metadata": {
    "colab": {
     "base_uri": "https://localhost:8080/",
     "height": 70
    },
    "id": "FCSMak3zl4za",
    "outputId": "c5a858ff-de6b-4694-b1e6-d701e5e9e28f"
   },
   "outputs": [
    {
     "data": {
      "text/plain": [
       "\"If_IN you_PRP 'd_MD like_VB to_TO automate_VB the_DT installation_NN of_IN Bash_NNP instead_RB ,_, you_PRP can_MD run_VB the_DT following_JJ command_NN in_IN a_DT Command_NNP Prompt_NNP window_NN ._. This_DT will_MD automatically_RB agree_VB to_TO all_DT prompts_NNS and_CC set_VB the_DT default_NN user_NN to_TO root_VB with_IN no_DT password_NN :_:\""
      ]
     },
     "execution_count": 22,
     "metadata": {},
     "output_type": "execute_result"
    }
   ],
   "source": [
    "word_tags = []\n",
    "for tw in tagged_words:\n",
    "  word_tags.append(tw[0]+\"_\"+tw[1])\n",
    "\n",
    "tagged_paragraph = ' '.join(word_tags)\n",
    "tagged_paragraph"
   ]
  },
  {
   "cell_type": "code",
   "execution_count": 23,
   "metadata": {
    "colab": {
     "base_uri": "https://localhost:8080/"
    },
    "id": "jhyfR87Xl4s3",
    "outputId": "47a1bc4f-23dd-4a99-8977-d2f2e0ebbf06"
   },
   "outputs": [
    {
     "name": "stderr",
     "output_type": "stream",
     "text": [
      "[nltk_data] Downloading package maxent_ne_chunker to\n",
      "[nltk_data]     C:\\Users\\msa\\AppData\\Roaming\\nltk_data...\n",
      "[nltk_data]   Package maxent_ne_chunker is already up-to-date!\n",
      "[nltk_data] Downloading package words to\n",
      "[nltk_data]     C:\\Users\\msa\\AppData\\Roaming\\nltk_data...\n",
      "[nltk_data]   Package words is already up-to-date!\n"
     ]
    },
    {
     "data": {
      "text/plain": [
       "True"
      ]
     },
     "execution_count": 23,
     "metadata": {},
     "output_type": "execute_result"
    }
   ],
   "source": [
    "nltk.download('maxent_ne_chunker')\n",
    "nltk.download('words')"
   ]
  },
  {
   "cell_type": "code",
   "execution_count": 24,
   "metadata": {
    "colab": {
     "base_uri": "https://localhost:8080/"
    },
    "id": "iP_l4aklpbTQ",
    "outputId": "b3b1f7c2-777f-4ea1-e6ce-f990763335b9"
   },
   "outputs": [
    {
     "data": {
      "text/plain": [
       "[('If', 'IN'), ('you', 'PRP'), (\"'d\", 'MD'), ('like', 'VB'), ('to', 'TO')]"
      ]
     },
     "execution_count": 24,
     "metadata": {},
     "output_type": "execute_result"
    }
   ],
   "source": [
    "tagged_words[:5]"
   ]
  },
  {
   "cell_type": "code",
   "execution_count": 27,
   "metadata": {
    "id": "dJjHGeekl4kM"
   },
   "outputs": [],
   "source": [
    "namedEnt = nltk.ne_chunk(tagged_words[:])\n",
    "namedEnt.draw()"
   ]
  },
  {
   "cell_type": "code",
   "execution_count": null,
   "metadata": {
    "id": "3lDBbBsSpNdQ"
   },
   "outputs": [],
   "source": [
    "!pip install parsivar\n"
   ]
  },
  {
   "cell_type": "code",
   "execution_count": null,
   "metadata": {},
   "outputs": [],
   "source": []
  }
 ],
 "metadata": {
  "colab": {
   "provenance": []
  },
  "kernelspec": {
   "display_name": "Python 3 (ipykernel)",
   "language": "python",
   "name": "python3"
  },
  "language_info": {
   "codemirror_mode": {
    "name": "ipython",
    "version": 3
   },
   "file_extension": ".py",
   "mimetype": "text/x-python",
   "name": "python",
   "nbconvert_exporter": "python",
   "pygments_lexer": "ipython3",
   "version": "3.10.8"
  }
 },
 "nbformat": 4,
 "nbformat_minor": 1
}
