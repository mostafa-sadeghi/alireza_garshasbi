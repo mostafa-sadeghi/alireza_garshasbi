{
 "cells": [
  {
   "cell_type": "markdown",
   "id": "a7a3de39",
   "metadata": {},
   "source": [
    "# NLP\n",
    "## TFIDF"
   ]
  },
  {
   "cell_type": "code",
   "execution_count": 1,
   "id": "f8695a6c",
   "metadata": {},
   "outputs": [],
   "source": [
    "import pandas as pd\n",
    "from sklearn.feature_extraction.text import TfidfVectorizer"
   ]
  },
  {
   "cell_type": "code",
   "execution_count": 2,
   "id": "d4953511",
   "metadata": {},
   "outputs": [
    {
     "data": {
      "text/plain": [
       "['the', 'man', 'went', 'out', 'for', 'a', 'walk']"
      ]
     },
     "execution_count": 2,
     "metadata": {},
     "output_type": "execute_result"
    }
   ],
   "source": [
    "documentA = 'the man went out for a walk'\n",
    "documentB = 'the childern set around the fire'\n",
    "bagOfWordsA = documentA.split(' ')\n",
    "bagOfWordsB = documentB.split(' ')\n",
    "bagOfWordsA"
   ]
  },
  {
   "cell_type": "code",
   "execution_count": 3,
   "id": "d4c3395d",
   "metadata": {},
   "outputs": [
    {
     "data": {
      "text/plain": [
       "{'a',\n",
       " 'around',\n",
       " 'childern',\n",
       " 'fire',\n",
       " 'for',\n",
       " 'man',\n",
       " 'out',\n",
       " 'set',\n",
       " 'the',\n",
       " 'walk',\n",
       " 'went'}"
      ]
     },
     "execution_count": 3,
     "metadata": {},
     "output_type": "execute_result"
    }
   ],
   "source": [
    "uniqueWords = set(bagOfWordsA).union(set(bagOfWordsB))\n",
    "uniqueWords"
   ]
  },
  {
   "cell_type": "markdown",
   "id": "818aad61",
   "metadata": {},
   "source": [
    "### number of counts unique word in each document"
   ]
  },
  {
   "cell_type": "code",
   "execution_count": 4,
   "id": "ecca9de2",
   "metadata": {},
   "outputs": [
    {
     "data": {
      "text/plain": [
       "{'out': 0,\n",
       " 'man': 0,\n",
       " 'fire': 0,\n",
       " 'for': 0,\n",
       " 'childern': 0,\n",
       " 'the': 0,\n",
       " 'a': 0,\n",
       " 'set': 0,\n",
       " 'around': 0,\n",
       " 'walk': 0,\n",
       " 'went': 0}"
      ]
     },
     "execution_count": 4,
     "metadata": {},
     "output_type": "execute_result"
    }
   ],
   "source": [
    "numOfWordsA = dict.fromkeys(uniqueWords, 0)\n",
    "numOfWordsA"
   ]
  },
  {
   "cell_type": "code",
   "execution_count": 5,
   "id": "2a655408",
   "metadata": {},
   "outputs": [
    {
     "data": {
      "text/plain": [
       "{'out': 1,\n",
       " 'man': 1,\n",
       " 'fire': 0,\n",
       " 'for': 1,\n",
       " 'childern': 0,\n",
       " 'the': 1,\n",
       " 'a': 1,\n",
       " 'set': 0,\n",
       " 'around': 0,\n",
       " 'walk': 1,\n",
       " 'went': 1}"
      ]
     },
     "execution_count": 5,
     "metadata": {},
     "output_type": "execute_result"
    }
   ],
   "source": [
    "for word in bagOfWordsA:\n",
    "    numOfWordsA[word] +=1\n",
    "    \n",
    "numOfWordsA "
   ]
  },
  {
   "cell_type": "code",
   "execution_count": 6,
   "id": "afd230bf",
   "metadata": {},
   "outputs": [
    {
     "data": {
      "text/plain": [
       "{'out': 0,\n",
       " 'man': 0,\n",
       " 'fire': 1,\n",
       " 'for': 0,\n",
       " 'childern': 1,\n",
       " 'the': 2,\n",
       " 'a': 0,\n",
       " 'set': 1,\n",
       " 'around': 1,\n",
       " 'walk': 0,\n",
       " 'went': 0}"
      ]
     },
     "execution_count": 6,
     "metadata": {},
     "output_type": "execute_result"
    }
   ],
   "source": [
    "numOfWordsB = dict.fromkeys(uniqueWords, 0)\n",
    "numOfWordsB\n",
    "for word in bagOfWordsB:\n",
    "    numOfWordsB[word] +=1\n",
    "    \n",
    "numOfWordsB "
   ]
  },
  {
   "cell_type": "code",
   "execution_count": 7,
   "id": "025952fb",
   "metadata": {},
   "outputs": [],
   "source": [
    "def computeTF(wordDict, bagOfWords):\n",
    "    tfDict={}\n",
    "    bagOfWordsCount = len(bagOfWords)\n",
    "    for word, count in wordDict.items():\n",
    "        tfDict[word] = count / bagOfWordsCount\n",
    "        \n",
    "    return tfDict\n",
    "\n",
    "\n",
    "tfA = computeTF(numOfWordsA, bagOfWordsA)\n",
    "tfB = computeTF(numOfWordsA, bagOfWordsA)        \n",
    "    "
   ]
  },
  {
   "cell_type": "code",
   "execution_count": 8,
   "id": "d3cc0b71",
   "metadata": {},
   "outputs": [],
   "source": [
    "import math\n",
    "def computeIDF(documents):\n",
    "    N = len(documents)\n",
    "    idfDict = dict.fromkeys(documents[0].keys(),0)\n",
    "    for document in documents:\n",
    "        for word, value in document.items():\n",
    "            if value>0:\n",
    "                idfDict[word] +=1 \n",
    "                \n",
    "   \n",
    "    for word, value in idfDict.items():\n",
    "        idfDict[word] = math.log(N/value)\n",
    "    \n",
    "    return idfDict\n",
    "    "
   ]
  },
  {
   "cell_type": "code",
   "execution_count": 9,
   "id": "6ba5edaf",
   "metadata": {},
   "outputs": [],
   "source": [
    "idfs = computeIDF([numOfWordsA, numOfWordsB])"
   ]
  },
  {
   "cell_type": "code",
   "execution_count": 10,
   "id": "553a476a",
   "metadata": {},
   "outputs": [
    {
     "data": {
      "text/plain": [
       "{'out': 0.09902102579427789,\n",
       " 'man': 0.09902102579427789,\n",
       " 'fire': 0.0,\n",
       " 'for': 0.09902102579427789,\n",
       " 'childern': 0.0,\n",
       " 'the': 0.0,\n",
       " 'a': 0.09902102579427789,\n",
       " 'set': 0.0,\n",
       " 'around': 0.0,\n",
       " 'walk': 0.09902102579427789,\n",
       " 'went': 0.09902102579427789}"
      ]
     },
     "execution_count": 10,
     "metadata": {},
     "output_type": "execute_result"
    }
   ],
   "source": [
    "def computeTFIDF(tfs, idfs):\n",
    "    tfidf = {}\n",
    "    for word, value in tfs.items():\n",
    "        tfidf[word] = value * idfs[word]\n",
    "        \n",
    "    return tfidf\n",
    "tfidfA = computeTFIDF(tfA, idfs)\n",
    "tfidfB = computeTFIDF(tfB, idfs)\n",
    "tfidfA\n",
    "tfidfB"
   ]
  },
  {
   "cell_type": "code",
   "execution_count": 11,
   "id": "1145573f",
   "metadata": {},
   "outputs": [
    {
     "data": {
      "text/plain": [
       "<2x10 sparse matrix of type '<class 'numpy.float64'>'\n",
       "\twith 11 stored elements in Compressed Sparse Row format>"
      ]
     },
     "execution_count": 11,
     "metadata": {},
     "output_type": "execute_result"
    }
   ],
   "source": [
    "vectorizer = TfidfVectorizer()\n",
    "vecotors = vectorizer.fit_transform([documentA,documentB])\n",
    "vecotors"
   ]
  },
  {
   "cell_type": "code",
   "execution_count": 12,
   "id": "00a84d7b",
   "metadata": {},
   "outputs": [
    {
     "name": "stderr",
     "output_type": "stream",
     "text": [
      "E:\\NIKLEARNING\\projects\\monday\\alirezagarshasbi\\datascience\\env\\lib\\site-packages\\sklearn\\utils\\deprecation.py:87: FutureWarning: Function get_feature_names is deprecated; get_feature_names is deprecated in 1.0 and will be removed in 1.2. Please use get_feature_names_out instead.\n",
      "  warnings.warn(msg, category=FutureWarning)\n"
     ]
    },
    {
     "data": {
      "text/plain": [
       "['around',\n",
       " 'childern',\n",
       " 'fire',\n",
       " 'for',\n",
       " 'man',\n",
       " 'out',\n",
       " 'set',\n",
       " 'the',\n",
       " 'walk',\n",
       " 'went']"
      ]
     },
     "execution_count": 12,
     "metadata": {},
     "output_type": "execute_result"
    }
   ],
   "source": [
    "feature_names = vectorizer.get_feature_names()\n",
    "feature_names"
   ]
  },
  {
   "cell_type": "code",
   "execution_count": 13,
   "id": "9c0c72b7",
   "metadata": {},
   "outputs": [
    {
     "data": {
      "text/plain": [
       "matrix([[0.        , 0.        , 0.        , 0.4261596 , 0.4261596 ,\n",
       "         0.4261596 , 0.        , 0.30321606, 0.4261596 , 0.4261596 ],\n",
       "        [0.40740124, 0.40740124, 0.40740124, 0.        , 0.        ,\n",
       "         0.        , 0.40740124, 0.57973867, 0.        , 0.        ]])"
      ]
     },
     "execution_count": 13,
     "metadata": {},
     "output_type": "execute_result"
    }
   ],
   "source": [
    "dense = vecotors.todense()\n",
    "dense"
   ]
  },
  {
   "cell_type": "code",
   "execution_count": 14,
   "id": "26961e9f",
   "metadata": {},
   "outputs": [],
   "source": [
    "import pandas as pd"
   ]
  },
  {
   "cell_type": "code",
   "execution_count": 17,
   "id": "b4d3b967",
   "metadata": {},
   "outputs": [
    {
     "data": {
      "text/html": [
       "<div>\n",
       "<style scoped>\n",
       "    .dataframe tbody tr th:only-of-type {\n",
       "        vertical-align: middle;\n",
       "    }\n",
       "\n",
       "    .dataframe tbody tr th {\n",
       "        vertical-align: top;\n",
       "    }\n",
       "\n",
       "    .dataframe thead th {\n",
       "        text-align: right;\n",
       "    }\n",
       "</style>\n",
       "<table border=\"1\" class=\"dataframe\">\n",
       "  <thead>\n",
       "    <tr style=\"text-align: right;\">\n",
       "      <th></th>\n",
       "      <th>around</th>\n",
       "      <th>childern</th>\n",
       "      <th>fire</th>\n",
       "      <th>for</th>\n",
       "      <th>man</th>\n",
       "      <th>out</th>\n",
       "      <th>set</th>\n",
       "      <th>the</th>\n",
       "      <th>walk</th>\n",
       "      <th>went</th>\n",
       "    </tr>\n",
       "  </thead>\n",
       "  <tbody>\n",
       "    <tr>\n",
       "      <th>0</th>\n",
       "      <td>0.000000</td>\n",
       "      <td>0.000000</td>\n",
       "      <td>0.000000</td>\n",
       "      <td>0.42616</td>\n",
       "      <td>0.42616</td>\n",
       "      <td>0.42616</td>\n",
       "      <td>0.000000</td>\n",
       "      <td>0.303216</td>\n",
       "      <td>0.42616</td>\n",
       "      <td>0.42616</td>\n",
       "    </tr>\n",
       "    <tr>\n",
       "      <th>1</th>\n",
       "      <td>0.407401</td>\n",
       "      <td>0.407401</td>\n",
       "      <td>0.407401</td>\n",
       "      <td>0.00000</td>\n",
       "      <td>0.00000</td>\n",
       "      <td>0.00000</td>\n",
       "      <td>0.407401</td>\n",
       "      <td>0.579739</td>\n",
       "      <td>0.00000</td>\n",
       "      <td>0.00000</td>\n",
       "    </tr>\n",
       "  </tbody>\n",
       "</table>\n",
       "</div>"
      ],
      "text/plain": [
       "     around  childern      fire      for      man      out       set  \\\n",
       "0  0.000000  0.000000  0.000000  0.42616  0.42616  0.42616  0.000000   \n",
       "1  0.407401  0.407401  0.407401  0.00000  0.00000  0.00000  0.407401   \n",
       "\n",
       "        the     walk     went  \n",
       "0  0.303216  0.42616  0.42616  \n",
       "1  0.579739  0.00000  0.00000  "
      ]
     },
     "execution_count": 17,
     "metadata": {},
     "output_type": "execute_result"
    }
   ],
   "source": [
    "denselist = dense.tolist()\n",
    "denselist\n",
    "df = pd.DataFrame(denselist, columns=feature_names)\n",
    "df"
   ]
  },
  {
   "cell_type": "code",
   "execution_count": null,
   "id": "feae2573",
   "metadata": {},
   "outputs": [],
   "source": []
  }
 ],
 "metadata": {
  "kernelspec": {
   "display_name": "Python 3 (ipykernel)",
   "language": "python",
   "name": "python3"
  },
  "language_info": {
   "codemirror_mode": {
    "name": "ipython",
    "version": 3
   },
   "file_extension": ".py",
   "mimetype": "text/x-python",
   "name": "python",
   "nbconvert_exporter": "python",
   "pygments_lexer": "ipython3",
   "version": "3.10.8"
  }
 },
 "nbformat": 4,
 "nbformat_minor": 5
}
