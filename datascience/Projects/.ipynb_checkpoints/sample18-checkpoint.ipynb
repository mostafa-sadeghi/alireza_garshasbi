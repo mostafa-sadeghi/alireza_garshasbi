{
 "cells": [
  {
   "cell_type": "markdown",
   "id": "a7a3de39",
   "metadata": {},
   "source": [
    "# NLP\n",
    "## TFIDF"
   ]
  },
  {
   "cell_type": "code",
   "execution_count": null,
   "id": "f8695a6c",
   "metadata": {},
   "outputs": [],
   "source": [
    "import pandas as pd\n",
    "from sklearn.feature_extraction.text import TfidfVectorizer"
   ]
  },
  {
   "cell_type": "code",
   "execution_count": 2,
   "id": "d4953511",
   "metadata": {},
   "outputs": [
    {
     "data": {
      "text/plain": [
       "['the', 'man', 'went', 'out', 'for', 'a', 'walk']"
      ]
     },
     "execution_count": 2,
     "metadata": {},
     "output_type": "execute_result"
    }
   ],
   "source": [
    "documentA = 'the man went out for a walk'\n",
    "documentB = 'the childern set around the fire'\n",
    "bagOfWordsA = documentA.split(' ')\n",
    "bagOfWordsB = documentB.split(' ')\n",
    "bagOfWordsA"
   ]
  },
  {
   "cell_type": "code",
   "execution_count": 3,
   "id": "d4c3395d",
   "metadata": {},
   "outputs": [
    {
     "data": {
      "text/plain": [
       "{'a',\n",
       " 'around',\n",
       " 'childern',\n",
       " 'fire',\n",
       " 'for',\n",
       " 'man',\n",
       " 'out',\n",
       " 'set',\n",
       " 'the',\n",
       " 'walk',\n",
       " 'went'}"
      ]
     },
     "execution_count": 3,
     "metadata": {},
     "output_type": "execute_result"
    }
   ],
   "source": [
    "uniqueWords = set(bagOfWordsA).union(set(bagOfWordsB))\n",
    "uniqueWords"
   ]
  },
  {
   "cell_type": "markdown",
   "id": "818aad61",
   "metadata": {},
   "source": [
    "### number of counts unique word in each document"
   ]
  },
  {
   "cell_type": "code",
   "execution_count": 6,
   "id": "ecca9de2",
   "metadata": {},
   "outputs": [
    {
     "data": {
      "text/plain": [
       "{'went': 0,\n",
       " 'set': 0,\n",
       " 'man': 0,\n",
       " 'childern': 0,\n",
       " 'a': 0,\n",
       " 'around': 0,\n",
       " 'for': 0,\n",
       " 'walk': 0,\n",
       " 'out': 0,\n",
       " 'the': 0,\n",
       " 'fire': 0}"
      ]
     },
     "execution_count": 6,
     "metadata": {},
     "output_type": "execute_result"
    }
   ],
   "source": [
    "numOfWordsA = dict.fromkeys(uniqueWords, 0)\n",
    "numOfWordsA"
   ]
  },
  {
   "cell_type": "code",
   "execution_count": 7,
   "id": "2a655408",
   "metadata": {},
   "outputs": [
    {
     "data": {
      "text/plain": [
       "{'went': 1,\n",
       " 'set': 0,\n",
       " 'man': 1,\n",
       " 'childern': 0,\n",
       " 'a': 1,\n",
       " 'around': 0,\n",
       " 'for': 1,\n",
       " 'walk': 1,\n",
       " 'out': 1,\n",
       " 'the': 1,\n",
       " 'fire': 0}"
      ]
     },
     "execution_count": 7,
     "metadata": {},
     "output_type": "execute_result"
    }
   ],
   "source": [
    "for word in bagOfWordsA:\n",
    "    numOfWordsA[word] +=1\n",
    "    \n",
    "numOfWordsA "
   ]
  },
  {
   "cell_type": "code",
   "execution_count": 8,
   "id": "afd230bf",
   "metadata": {},
   "outputs": [
    {
     "data": {
      "text/plain": [
       "{'went': 0,\n",
       " 'set': 1,\n",
       " 'man': 0,\n",
       " 'childern': 1,\n",
       " 'a': 0,\n",
       " 'around': 1,\n",
       " 'for': 0,\n",
       " 'walk': 0,\n",
       " 'out': 0,\n",
       " 'the': 2,\n",
       " 'fire': 1}"
      ]
     },
     "execution_count": 8,
     "metadata": {},
     "output_type": "execute_result"
    }
   ],
   "source": [
    "numOfWordsB = dict.fromkeys(uniqueWords, 0)\n",
    "numOfWordsB\n",
    "for word in bagOfWordsB:\n",
    "    numOfWordsB[word] +=1\n",
    "    \n",
    "numOfWordsB "
   ]
  },
  {
   "cell_type": "code",
   "execution_count": 10,
   "id": "025952fb",
   "metadata": {},
   "outputs": [],
   "source": [
    "def computeTF(wordDict, bagOfWords):\n",
    "    tfDict={}\n",
    "    bagOfWordsCount = len(bagOfWords)\n",
    "    for word, count in wordDict.items():\n",
    "        tfDict[word] = count / bagOfWordsCount\n",
    "        \n",
    "    return tfDict\n",
    "\n",
    "\n",
    "tfA = computeTF(numOfWordsA, bagOfWordsA)\n",
    "tfB = computeTF(numOfWordsA, bagOfWordsA)        \n",
    "    "
   ]
  },
  {
   "cell_type": "code",
   "execution_count": 15,
   "id": "d3cc0b71",
   "metadata": {},
   "outputs": [],
   "source": [
    "import math\n",
    "def computeIDF(documents):\n",
    "    N = len(documents)\n",
    "    idfDict = dict.fromkeys(documents[0].keys(),0)\n",
    "    for document in documents:\n",
    "        for word, value in document.items():\n",
    "            if value>0:\n",
    "                idfDict[word] +=1 \n",
    "                \n",
    "   \n",
    "    for word, value in idfDict.items():\n",
    "        idfDict[word] = math.log(N/value)\n",
    "    \n",
    "    return idfDict\n",
    "    "
   ]
  },
  {
   "cell_type": "code",
   "execution_count": 17,
   "id": "6ba5edaf",
   "metadata": {},
   "outputs": [],
   "source": [
    "idfs = computeIDF([numOfWordsA, numOfWordsB])"
   ]
  },
  {
   "cell_type": "code",
   "execution_count": 20,
   "id": "553a476a",
   "metadata": {},
   "outputs": [
    {
     "data": {
      "text/plain": [
       "{'went': 0.09902102579427789,\n",
       " 'set': 0.0,\n",
       " 'man': 0.09902102579427789,\n",
       " 'childern': 0.0,\n",
       " 'a': 0.09902102579427789,\n",
       " 'around': 0.0,\n",
       " 'for': 0.09902102579427789,\n",
       " 'walk': 0.09902102579427789,\n",
       " 'out': 0.09902102579427789,\n",
       " 'the': 0.0,\n",
       " 'fire': 0.0}"
      ]
     },
     "execution_count": 20,
     "metadata": {},
     "output_type": "execute_result"
    }
   ],
   "source": [
    "def computeTFIDF(tfs, idfs):\n",
    "    tfidf = {}\n",
    "    for word, value in tfs.items():\n",
    "        tfidf[word] = value * idfs[word]\n",
    "        \n",
    "    return tfidf\n",
    "tfidfA = computeTFIDF(tfA, idfs)\n",
    "tfidfB = computeTFIDF(tfB, idfs)\n",
    "tfidfA\n",
    "tfidfB"
   ]
  },
  {
   "cell_type": "code",
   "execution_count": null,
   "id": "1145573f",
   "metadata": {},
   "outputs": [],
   "source": []
  }
 ],
 "metadata": {
  "kernelspec": {
   "display_name": "Python 3 (ipykernel)",
   "language": "python",
   "name": "python3"
  },
  "language_info": {
   "codemirror_mode": {
    "name": "ipython",
    "version": 3
   },
   "file_extension": ".py",
   "mimetype": "text/x-python",
   "name": "python",
   "nbconvert_exporter": "python",
   "pygments_lexer": "ipython3",
   "version": "3.10.8"
  }
 },
 "nbformat": 4,
 "nbformat_minor": 5
}
